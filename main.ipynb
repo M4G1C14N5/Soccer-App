{
 "cells": [
  {
   "attachments": {},
   "cell_type": "markdown",
   "metadata": {},
   "source": [
    "create a python program that takes performance data from the Premier League website and stores it in a csv file\n",
    "which players have had the best performance in terms in each postions in the premier league \n",
    "1) I need to scrape a website for the data I am looking for \n",
    "2) I need to store the data in a csv file\n",
    "3) decide what stats I'll be using to determine the best player in each position\n",
    "4) I need to create a function that will determine the best player in each position"
   ]
  },
  {
   "cell_type": "code",
   "execution_count": 4,
   "metadata": {},
   "outputs": [
    {
     "name": "stdout",
     "output_type": "stream",
     "text": [
      "         full_name    position  goals_overall  assists_overall  \\\n",
      "0  Aaron Cresswell    Defender              0                1   \n",
      "1     Aaron Lennon  Midfielder              1                1   \n",
      "2       Aaron Mooy  Midfielder              3                1   \n",
      "3     Aaron Ramsey  Midfielder              4                6   \n",
      "4       Aaron Rowe     Forward              0                0   \n",
      "\n",
      "   conceded_overall  yellow_cards_overall  red_cards_overall  \\\n",
      "0                22                     1                  0   \n",
      "1                20                     1                  0   \n",
      "2                46                     4                  0   \n",
      "3                12                     0                  0   \n",
      "4                 1                     0                  0   \n",
      "\n",
      "   assists_per_90_overall  goals_per_90_overall  total_points  \n",
      "0                    0.06                  0.00             0  \n",
      "1                    0.07                  0.07             0  \n",
      "2                    0.04                  0.12             0  \n",
      "3                    0.41                  0.27             0  \n",
      "4                    0.00                  0.00             0  \n"
     ]
    }
   ],
   "source": [
    "\n",
    "#import some libraries\n",
    "import os\n",
    "import pandas as pd\n",
    "import numpy as np\n",
    "\n",
    "df = pd.read_csv(\"/Users/thomastsangou/Documents/GitHub/Soccer-App/england-premier-league-players-2018-to-2019-stats copy.csv\")\n",
    "\n",
    "# select the only relevant columns\n",
    "df = df[['full_name', 'position', 'goals_overall', 'assists_overall', 'conceded_overall','yellow_cards_overall', 'red_cards_overall', 'assists_per_90_overall', 'goals_per_90_overall']]\n",
    "\n",
    "# group the data by position \n",
    "position_groups = df.groupby('position')\n",
    "\n",
    "# define the selection criteria for each position\n",
    "defenders_criteria = ['goals_overall', 'assists_overall', 'conceded_overall','yellow_cards_overall', 'red_cards_overall']\n",
    "midfielders_criteria = ['goals_overall', 'assists_overall', 'conceded_overall', 'yellow_cards_overall', 'red_cards_overall', 'assists_per_90_overall', 'goals_per_90_overall']\n",
    "forwards_criteria = ['goals_overall', 'assists_overall', 'conceded_overall', 'assists_per_90_overall', 'goals_per_90_overall']\n",
    "\n",
    "# create empty dictionaries to store  the best players for each position\n",
    "best_defenders = {}\n",
    "best_forwards = {}\n",
    "best_midfielders = {}\n",
    "\n",
    "# we will determine the best players by adding up the total number of points for each player\n",
    "# for midfielders and defenders, yellow cards and red cards will be subtracted from the total points (yellow cards = -1, red cards = -3)\n",
    "# let's add a column to the dataframe to store the total points for each player\n",
    "df = df.assign(total_points = 0)\n",
    "\n",
    "print(df.head())\n"
   ]
  },
  {
   "cell_type": "code",
   "execution_count": null,
   "metadata": {},
   "outputs": [],
   "source": [
    "\n"
   ]
  },
  {
   "cell_type": "code",
   "execution_count": null,
   "metadata": {},
   "outputs": [],
   "source": [
    "\n",
    "\n"
   ]
  },
  {
   "cell_type": "code",
   "execution_count": 24,
   "metadata": {},
   "outputs": [
    {
     "name": "stdout",
     "output_type": "stream",
     "text": [
      "full_name                          object\n",
      "age                                 int64\n",
      "birthday                            int64\n",
      "birthday_GMT                       object\n",
      "league                             object\n",
      "season                             object\n",
      "position                           object\n",
      "Current Club                       object\n",
      "minutes_played_overall              int64\n",
      "minutes_played_home                 int64\n",
      "minutes_played_away                 int64\n",
      "nationality                        object\n",
      "appearances_overall                 int64\n",
      "appearances_home                    int64\n",
      "appearances_away                    int64\n",
      "goals_overall                       int64\n",
      "goals_home                          int64\n",
      "goals_away                          int64\n",
      "assists_overall                     int64\n",
      "assists_home                        int64\n",
      "assists_away                        int64\n",
      "penalty_goals                       int64\n",
      "penalty_misses                      int64\n",
      "clean_sheets_overall                int64\n",
      "clean_sheets_home                   int64\n",
      "clean_sheets_away                   int64\n",
      "conceded_overall                    int64\n",
      "conceded_home                       int64\n",
      "conceded_away                       int64\n",
      "yellow_cards_overall                int64\n",
      "red_cards_overall                   int64\n",
      "goals_involved_per_90_overall     float64\n",
      "assists_per_90_overall            float64\n",
      "goals_per_90_overall              float64\n",
      "goals_per_90_home                 float64\n",
      "goals_per_90_away                 float64\n",
      "min_per_goal_overall                int64\n",
      "conceded_per_90_overall           float64\n",
      "min_per_conceded_overall            int64\n",
      "min_per_match                       int64\n",
      "min_per_card_overall                int64\n",
      "min_per_assist_overall              int64\n",
      "cards_per_90_overall              float64\n",
      "rank_in_league_top_attackers        int64\n",
      "rank_in_league_top_midfielders      int64\n",
      "rank_in_league_top_defenders        int64\n",
      "rank_in_club_top_scorer             int64\n",
      "dtype: object\n"
     ]
    }
   ],
   "source": [
    "# get the data type of all the columns \n",
    "result = pl.dtypes\n",
    "print(result)\n",
    "\n"
   ]
  },
  {
   "cell_type": "code",
   "execution_count": null,
   "metadata": {},
   "outputs": [],
   "source": []
  },
  {
   "cell_type": "code",
   "execution_count": null,
   "metadata": {},
   "outputs": [],
   "source": []
  },
  {
   "cell_type": "code",
   "execution_count": null,
   "metadata": {},
   "outputs": [],
   "source": []
  },
  {
   "cell_type": "code",
   "execution_count": null,
   "metadata": {},
   "outputs": [],
   "source": []
  },
  {
   "cell_type": "code",
   "execution_count": null,
   "metadata": {},
   "outputs": [],
   "source": []
  },
  {
   "cell_type": "code",
   "execution_count": null,
   "metadata": {},
   "outputs": [],
   "source": []
  },
  {
   "cell_type": "code",
   "execution_count": null,
   "metadata": {},
   "outputs": [],
   "source": []
  },
  {
   "cell_type": "code",
   "execution_count": null,
   "metadata": {},
   "outputs": [],
   "source": []
  },
  {
   "cell_type": "code",
   "execution_count": null,
   "metadata": {},
   "outputs": [],
   "source": []
  },
  {
   "cell_type": "code",
   "execution_count": null,
   "metadata": {},
   "outputs": [],
   "source": []
  },
  {
   "cell_type": "code",
   "execution_count": null,
   "metadata": {},
   "outputs": [],
   "source": []
  }
 ],
 "metadata": {
  "kernelspec": {
   "display_name": "Python 3",
   "language": "python",
   "name": "python3"
  },
  "language_info": {
   "codemirror_mode": {
    "name": "ipython",
    "version": 3
   },
   "file_extension": ".py",
   "mimetype": "text/x-python",
   "name": "python",
   "nbconvert_exporter": "python",
   "pygments_lexer": "ipython3",
   "version": "3.11.1"
  },
  "orig_nbformat": 4,
  "vscode": {
   "interpreter": {
    "hash": "aee8b7b246df8f9039afb4144a1f6fd8d2ca17a180786b69acc140d282b71a49"
   }
  }
 },
 "nbformat": 4,
 "nbformat_minor": 2
}
