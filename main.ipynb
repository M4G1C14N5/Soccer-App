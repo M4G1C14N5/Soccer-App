{
 "cells": [
  {
   "cell_type": "code",
   "execution_count": 5,
   "metadata": {},
   "outputs": [
    {
     "name": "stdout",
     "output_type": "stream",
     "text": [
      "Collecting pandas\n",
      "  Using cached pandas-1.5.2-cp311-cp311-win_amd64.whl (10.3 MB)\n",
      "Requirement already satisfied: python-dateutil>=2.8.1 in c:\\users\\mianakindila tsangou\\appdata\\roaming\\python\\python311\\site-packages (from pandas) (2.8.2)\n",
      "Requirement already satisfied: pytz>=2020.1 in c:\\python311\\lib\\site-packages (from pandas) (2022.7)\n",
      "Requirement already satisfied: numpy>=1.21.0 in c:\\python311\\lib\\site-packages (from pandas) (1.24.1)\n",
      "Requirement already satisfied: six>=1.5 in c:\\users\\mianakindila tsangou\\appdata\\roaming\\python\\python311\\site-packages (from python-dateutil>=2.8.1->pandas) (1.16.0)\n",
      "Installing collected packages: pandas\n",
      "Successfully installed pandas-1.5.2\n",
      "Note: you may need to restart the kernel to use updated packages.\n"
     ]
    },
    {
     "name": "stderr",
     "output_type": "stream",
     "text": [
      "\n",
      "[notice] A new release of pip available: 22.3 -> 22.3.1\n",
      "[notice] To update, run: python.exe -m pip install --upgrade pip\n"
     ]
    }
   ],
   "source": [
    "pip install pandas\n"
   ]
  },
  {
   "attachments": {},
   "cell_type": "markdown",
   "metadata": {},
   "source": [
    "create a python program that takes performance data from the Premier League website and stores it in a csv file\n",
    "which players have had the best performance in terms in each postions in the premier league \n",
    "1) I need to scrape a website for the data I am looking for \n",
    "2) I need to store the data in a csv file\n",
    "3) decide what stats I'll be using to determine the best player in each position\n",
    "4) I need to create a function that will determine the best player in each position"
   ]
  },
  {
   "cell_type": "code",
   "execution_count": 12,
   "metadata": {},
   "outputs": [
    {
     "name": "stdout",
     "output_type": "stream",
     "text": [
      "                     full_name    position  goals_overall  assists_overall  \\\n",
      "0              Aaron Cresswell    Defender              0                1   \n",
      "1                 Aaron Lennon  Midfielder              1                1   \n",
      "2                   Aaron Mooy  Midfielder              3                1   \n",
      "3                 Aaron Ramsey  Midfielder              4                6   \n",
      "4                   Aaron Rowe     Forward              0                0   \n",
      "5            Aaron Wan-Bissaka  Midfielder              0                3   \n",
      "6            Abdelhamid Sabiri  Midfielder              0                0   \n",
      "7           Abdoulaye Doucouré  Midfielder              5                6   \n",
      "8             Aboubakar Kamara     Forward              3                0   \n",
      "9  Adalberto Peñaranda Maestre     Forward              0                0   \n",
      "\n",
      "   conceded_overall  yellow_cards_overall  red_cards_overall  \\\n",
      "0                22                     1                  0   \n",
      "1                20                     1                  0   \n",
      "2                46                     4                  0   \n",
      "3                12                     0                  0   \n",
      "4                 1                     0                  0   \n",
      "5                41                     5                  1   \n",
      "6                 3                     0                  0   \n",
      "7                54                     7                  0   \n",
      "8                16                     2                  0   \n",
      "9                 0                     0                  0   \n",
      "\n",
      "   assists_per_90_overall  goals_per_90_overall  \\\n",
      "0                    0.06                  0.00   \n",
      "1                    0.07                  0.07   \n",
      "2                    0.04                  0.12   \n",
      "3                    0.41                  0.27   \n",
      "4                    0.00                  0.00   \n",
      "5                    0.09                  0.00   \n",
      "6                    0.00                  0.00   \n",
      "7                    0.18                  0.15   \n",
      "8                    0.00                  0.39   \n",
      "9                    0.00                  0.00   \n",
      "\n",
      "   rank_in_league_top_midfielders  total_points  \n",
      "0                             191          1.00  \n",
      "1                             187         12.14  \n",
      "2                             233         27.16  \n",
      "3                               8         16.68  \n",
      "4                              -1          0.00  \n",
      "5                             160         21.59  \n",
      "6                              -1          1.50  \n",
      "7                              80         38.33  \n",
      "8                             412          5.39  \n",
      "9                              -1          0.00  \n"
     ]
    }
   ],
   "source": [
    "\n",
    "#import some libraries\n",
    "import pandas as pd\n",
    "import numpy as np\n",
    "\n",
    "df = pd.read_csv(\"england-premier-league-players-2018-to-2019-stats copy.csv\")\n",
    "\n",
    "# select the only relevant columns\n",
    "df = df[['full_name', 'position', 'goals_overall', 'assists_overall', 'conceded_overall','yellow_cards_overall', 'red_cards_overall', 'assists_per_90_overall', 'goals_per_90_overall', 'rank_in_league_top_midfielders']]\n",
    "\n",
    "# group the data by position \n",
    "position_groups = df.groupby('position')\n",
    "\n",
    "# define the selection criteria for each position\n",
    "defenders_criteria = ['goals_overall', 'assists_overall', 'conceded_overall','yellow_cards_overall', 'red_cards_overall']\n",
    "midfielders_criteria = ['goals_overall', 'assists_overall', 'conceded_overall', 'yellow_cards_overall', 'red_cards_overall', 'assists_per_90_overall', 'goals_per_90_overall']\n",
    "forwards_criteria = ['goals_overall', 'assists_overall', 'assists_per_90_overall', 'goals_per_90_overall','yellow_cards_overall', 'red_cards_overall']\n",
    "\n",
    "# create empty dictionaries to store  the best players for each position\n",
    "best_defenders = {}\n",
    "best_forwards = {}\n",
    "best_midfielders = {}\n",
    "\n",
    "# we will determine the best players by adding up the total number of points for each player\n",
    "# for midfielders and defenders, yellow cards and red cards will be subtracted from the total points (yellow cards = -1, red cards = -3)\n",
    "# let's add a column to the dataframe to store the total points for each player\n",
    "df = df.assign(total_points = 0)\n",
    "\n",
    "\n",
    "# iterate over the position groups and calculate the total points for each player\n",
    "# yellow cards = -1, red cards = -3\n",
    "# conceded goals for midfielders = -0.5, conceded goals for defenders = -1\n",
    "for position, group in position_groups:\n",
    "    if position == 'Defender':\n",
    "        for index, row in group.iterrows():\n",
    "            total_points = 0\n",
    "            for criteria in defenders_criteria:\n",
    "                total_points += row[criteria]\n",
    "            total_points -= (row['yellow_cards_overall'] + row['red_cards_overall'] * 3 + row['conceded_overall'])\n",
    "            df.at[index, 'total_points'] = total_points\n",
    "    elif position == 'Midfielder':\n",
    "        for index, row in group.iterrows():\n",
    "            total_points = 0\n",
    "            for criteria in midfielders_criteria:\n",
    "                total_points += row[criteria]\n",
    "            total_points -= (row['yellow_cards_overall'] + row['red_cards_overall'] * 3 + row['conceded_overall']*0.5)\n",
    "            df.at[index, 'total_points'] = total_points\n",
    "    elif position == 'Forward':\n",
    "        for index, row in group.iterrows():\n",
    "            total_points = 0\n",
    "            for criteria in forwards_criteria:\n",
    "                total_points += row[criteria]\n",
    "            df.at[index, 'total_points'] = total_points\n",
    "\n",
    "\n",
    "print(df.head(10))\n"
   ]
  },
  {
   "cell_type": "code",
   "execution_count": null,
   "metadata": {},
   "outputs": [],
   "source": [
    "\n"
   ]
  },
  {
   "cell_type": "code",
   "execution_count": 22,
   "metadata": {},
   "outputs": [
    {
     "name": "stdout",
     "output_type": "stream",
     "text": [
      "               full_name    position  rank_in_league_top_midfielders\n",
      "341           Leroy Sané  Midfielder                               4\n",
      "167          Eden Hazard  Midfielder                               5\n",
      "3           Aaron Ramsey  Midfielder                               8\n",
      "481          Ryan Fraser  Midfielder                               9\n",
      "114    Christian Eriksen  Midfielder                              10\n",
      "..                   ...         ...                             ...\n",
      "407       Mohamed Elneny  Midfielder                             409\n",
      "322       Kevin McDonald  Midfielder                             410\n",
      "122          Conor Coady  Midfielder                             415\n",
      "205  Georginio Wijnaldum  Midfielder                             416\n",
      "41        André Schürrle  Midfielder                             417\n",
      "\n",
      "[161 rows x 3 columns]\n"
     ]
    }
   ],
   "source": [
    "midfield_rank = df[(df.rank_in_league_top_midfielders > 0) & (df.position == 'Midfielder')]\n",
    "something = midfield_rank[['full_name', 'position', 'rank_in_league_top_midfielders']]\n",
    "print(something.sort_values(by=['rank_in_league_top_midfielders']))\n",
    "\n",
    "\n"
   ]
  },
  {
   "cell_type": "code",
   "execution_count": 24,
   "metadata": {},
   "outputs": [
    {
     "name": "stdout",
     "output_type": "stream",
     "text": [
      "full_name                          object\n",
      "age                                 int64\n",
      "birthday                            int64\n",
      "birthday_GMT                       object\n",
      "league                             object\n",
      "season                             object\n",
      "position                           object\n",
      "Current Club                       object\n",
      "minutes_played_overall              int64\n",
      "minutes_played_home                 int64\n",
      "minutes_played_away                 int64\n",
      "nationality                        object\n",
      "appearances_overall                 int64\n",
      "appearances_home                    int64\n",
      "appearances_away                    int64\n",
      "goals_overall                       int64\n",
      "goals_home                          int64\n",
      "goals_away                          int64\n",
      "assists_overall                     int64\n",
      "assists_home                        int64\n",
      "assists_away                        int64\n",
      "penalty_goals                       int64\n",
      "penalty_misses                      int64\n",
      "clean_sheets_overall                int64\n",
      "clean_sheets_home                   int64\n",
      "clean_sheets_away                   int64\n",
      "conceded_overall                    int64\n",
      "conceded_home                       int64\n",
      "conceded_away                       int64\n",
      "yellow_cards_overall                int64\n",
      "red_cards_overall                   int64\n",
      "goals_involved_per_90_overall     float64\n",
      "assists_per_90_overall            float64\n",
      "goals_per_90_overall              float64\n",
      "goals_per_90_home                 float64\n",
      "goals_per_90_away                 float64\n",
      "min_per_goal_overall                int64\n",
      "conceded_per_90_overall           float64\n",
      "min_per_conceded_overall            int64\n",
      "min_per_match                       int64\n",
      "min_per_card_overall                int64\n",
      "min_per_assist_overall              int64\n",
      "cards_per_90_overall              float64\n",
      "rank_in_league_top_attackers        int64\n",
      "rank_in_league_top_midfielders      int64\n",
      "rank_in_league_top_defenders        int64\n",
      "rank_in_club_top_scorer             int64\n",
      "dtype: object\n"
     ]
    }
   ],
   "source": [
    "\n"
   ]
  },
  {
   "cell_type": "code",
   "execution_count": null,
   "metadata": {},
   "outputs": [],
   "source": []
  },
  {
   "cell_type": "code",
   "execution_count": null,
   "metadata": {},
   "outputs": [],
   "source": []
  },
  {
   "cell_type": "code",
   "execution_count": null,
   "metadata": {},
   "outputs": [],
   "source": []
  },
  {
   "cell_type": "code",
   "execution_count": null,
   "metadata": {},
   "outputs": [],
   "source": []
  },
  {
   "cell_type": "code",
   "execution_count": null,
   "metadata": {},
   "outputs": [],
   "source": []
  },
  {
   "cell_type": "code",
   "execution_count": null,
   "metadata": {},
   "outputs": [],
   "source": []
  },
  {
   "cell_type": "code",
   "execution_count": null,
   "metadata": {},
   "outputs": [],
   "source": []
  },
  {
   "cell_type": "code",
   "execution_count": null,
   "metadata": {},
   "outputs": [],
   "source": []
  },
  {
   "cell_type": "code",
   "execution_count": null,
   "metadata": {},
   "outputs": [],
   "source": []
  },
  {
   "cell_type": "code",
   "execution_count": null,
   "metadata": {},
   "outputs": [],
   "source": []
  },
  {
   "cell_type": "code",
   "execution_count": null,
   "metadata": {},
   "outputs": [],
   "source": []
  }
 ],
 "metadata": {
  "kernelspec": {
   "display_name": "Python 3",
   "language": "python",
   "name": "python3"
  },
  "language_info": {
   "codemirror_mode": {
    "name": "ipython",
    "version": 3
   },
   "file_extension": ".py",
   "mimetype": "text/x-python",
   "name": "python",
   "nbconvert_exporter": "python",
   "pygments_lexer": "ipython3",
   "version": "3.11.0"
  },
  "orig_nbformat": 4,
  "vscode": {
   "interpreter": {
    "hash": "c261aea317cc0286b3b3261fbba9abdec21eaa57589985bb7a274bf54d6cc0a7"
   }
  }
 },
 "nbformat": 4,
 "nbformat_minor": 2
}
